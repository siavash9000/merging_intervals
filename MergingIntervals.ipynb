{
 "cells": [
  {
   "cell_type": "markdown",
   "metadata": {},
   "source": [
    "Implementieren Sie eine Funktion MERGE die eine Liste von Intervallen entgegennimmt und als Ergebnis wiederum eine Liste von Intervallen zurückgibt. Im Ergebnis sollen alle sich überlappenden Intervalle gemerged sein. Alle nicht überlappenden Intervalle bleiben unberührt.\n",
    "\n",
    "Beispiel:\n",
    "Input: [25,30] [2,19] [14, 23] [4,8]  Output: [2,23] [25,30]\n",
    "\n",
    "Wie ist die Laufzeit Ihres Programms ? \n",
    "Wie kann die Robustheit sichergestellt werden, vor allem auch mit Hinblick auf sehr große\n",
    "Eingaben ?\n",
    "Wie verhält sich der Speicherverbrauch ihres Programms ?\n",
    "\n",
    "\n",
    "\n",
    "\n",
    "\n",
    "\n",
    "\n"
   ]
  },
  {
   "cell_type": "markdown",
   "metadata": {},
   "source": [
    "Wir treffen die Annahme dass für jedes Interval `[start, end]` der Eingabe `start < end` gilt.\n",
    "\n",
    "Eine Bruteforce Lösung würde alle Intervalle mit allen anderen vergleichen und hätte eine Laufzeit von `O(n²)`. Wir verbessern die Laufzeit indem wir die Intervalle zuerst nach der ersten Komponente sortieren und anschliessend je zwei aufeinanderfolgende Elemente auf Überlappung testen. Da die in dieser Iteration konstruierte Ergebnis Liste höchstens so groß werden kann wie die Eingabe Liste liegt der Speicherverbrauch in `O(n)`. Die Sortierung geschieht in-place und erhöht den Speicherverbrauch nicht. Die Laufzeit liegt mit Sortieren + Iteration über sortierten Input in `O(n*logn) + O(n) = O(n*logn)`. Python verwendet Timsort, damit könnte die Sortierung im Bestfall auch in `O(n)` liegen und damit ebenfalls die Gesamtlaufzeit. "
   ]
  },
  {
   "cell_type": "code",
   "execution_count": 1,
   "metadata": {},
   "outputs": [
    {
     "name": "stdout",
     "output_type": "stream",
     "text": [
      "[[2, 23], [25, 30]]\n",
      "True\n"
     ]
    }
   ],
   "source": [
    "intervals = [[25,30], [2,19], [14, 23], [4,8]] \n",
    "expected_result = [[2,23], [25,30]]\n",
    "\n",
    "def merge(intervals):\n",
    "    intervals.sort(key=lambda interval: interval[0]) #sort by first component\n",
    "    merged = [intervals.pop(0)]    \n",
    "    for current in intervals:\n",
    "        last = merged.pop() #we only need to consider last element due to sorting\n",
    "        if current[0] <= last[1]:\n",
    "            merged_interval = [last[0], max(last[1], current[1])]\n",
    "            merged.append(merged_interval)\n",
    "        else:\n",
    "            merged.append(last)\n",
    "            merged.append(current)\n",
    "    return merged\n",
    "\n",
    "merged = merge(intervals)\n",
    "print(merged)\n",
    "print(expected_result == merged)        "
   ]
  },
  {
   "cell_type": "markdown",
   "metadata": {},
   "source": [
    "Robustheit interpretieren wir hier zum einen bzgl der Funktionalität, d.h. eine robuste Lösung ist korrekt. Zum anderen betrachten wir auch nicht-funktionale Aspekte insbesondere die Laufzeit und Speicherverbauch. Beides lässt sich einfach in Python messen mittels Profiler. Wir messen hier der Übersicht zu Liebe direkt im Code.\n",
    "\n",
    "Der naheliegende Test bzgl. Korrektheit ist die Verwendung von Zufalls Werten. Dazu konstruieren wir `n`zufällige Intervalle und verfizieren, dass je zwei Intervalle `a` und `b` des Ergebnisses sich nicht überlappen. Da wir in unserer Lösung die Intervalle sortieren, können wir die Verifikation vereinfachen und für je zwei auf einerander folgende `a`und `b` prüfen ob `a[0] < a[1] < b[0] < b[1]`. Da wir oben angenommen haben , dass für jedes Interval `[start, end]` der Eingabe `start < end` gilt, vereinfacht sich die Verifikation auf `a[1] < b[0]` Damit reicht uns eine Iteration für die Verifikation statt alle Intervalle mit allen zu vergleichen, also`O(n)` statt `O(n²)` Laufzeit."
   ]
  },
  {
   "cell_type": "code",
   "execution_count": 2,
   "metadata": {},
   "outputs": [
    {
     "name": "stdout",
     "output_type": "stream",
     "text": [
      "[[420, 718], [106, 848], [295, 725], [805, 900], [470, 632]]\n",
      "[[106, 900]]\n",
      "the result has no overlaps: True\n"
     ]
    }
   ],
   "source": [
    "from random import randrange\n",
    "max_value = 1000\n",
    "sample_size = 5\n",
    "test_input = [sorted([randrange(max_value), randrange(max_value)]) for i in range(sample_size)]\n",
    "print(test_input)\n",
    "merged = merge(test_input)\n",
    "print(merged)\n",
    "def verify(merged):\n",
    "    no_overlap = True\n",
    "    for i in range(len(merged)-1):\n",
    "        a = merged[i]\n",
    "        b = merged[i+1]\n",
    "        if a[1] > b[0]:\n",
    "            no_overlap = False\n",
    "            break;\n",
    "    return no_overlap\n",
    "print(\"the result has no overlaps: {}\".format(verify(merged)))"
   ]
  },
  {
   "cell_type": "code",
   "execution_count": 3,
   "metadata": {},
   "outputs": [],
   "source": [
    "import time\n",
    "max_value = 1000\n",
    "sample_size = 5\n",
    "def test(runs=1000):\n",
    "    run_times = []\n",
    "    for i in range(1, runs):\n",
    "        test_input = [sorted([randrange(max_value*i), randrange(max_value*i)]) for i in range(1, sample_size*i)]\n",
    "        start = time.time()\n",
    "        merged = merge(test_input)\n",
    "        diff = time.time() - start\n",
    "        run_times.append(diff)\n",
    "        if not verify(merged):\n",
    "            print('Invalid result in run {}'.format(i))\n",
    "    return run_times\n",
    "run_times = test()        "
   ]
  },
  {
   "cell_type": "code",
   "execution_count": 4,
   "metadata": {},
   "outputs": [
    {
     "data": {
      "image/png": "[encoded data removed]",
      "text/plain": [
       "<Figure size 432x288 with 1 Axes>"
      ]
     },
     "metadata": {
      "needs_background": "light"
     },
     "output_type": "display_data"
    }
   ],
   "source": [
    "%matplotlib inline\n",
    "import matplotlib\n",
    "import matplotlib.pyplot as plt\n",
    "import numpy as np\n",
    "\n",
    "# Data for plotting\n",
    "t = range(len(run_times))\n",
    "s = run_times\n",
    "\n",
    "fig, ax = plt.subplots()\n",
    "ax.plot(t, s)\n",
    "\n",
    "ax.set(xlabel='run', ylabel='Laufzeit in sekunden')\n",
    "ax.grid()\n"
   ]
  }
 ],
 "metadata": {
  "kernelspec": {
   "display_name": "Python 3",
   "language": "python",
   "name": "python3"
  },
  "language_info": {
   "codemirror_mode": {
    "name": "ipython",
    "version": 3
   },
   "file_extension": ".py",
   "mimetype": "text/x-python",
   "name": "python",
   "nbconvert_exporter": "python",
   "pygments_lexer": "ipython3",
   "version": "3.7.3"
  }
 },
 "nbformat": 4,
 "nbformat_minor": 2
}
